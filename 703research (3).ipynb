{
  "nbformat": 4,
  "nbformat_minor": 0,
  "metadata": {
    "colab": {
      "provenance": []
    },
    "kernelspec": {
      "name": "python3",
      "display_name": "Python 3"
    },
    "language_info": {
      "name": "python"
    }
  },
  "cells": [
    {
      "cell_type": "markdown",
      "source": [
        "# COMPSCI703 Project Code\n",
        "- Author: Xiaolin Zhao\n",
        "- Environment: Google Colab (with OpenAI API)\n",
        "- Dataset: Social IQA\n"
      ],
      "metadata": {
        "id": "jKE4J6OqE_tL"
      }
    },
    {
      "cell_type": "code",
      "source": [
        "from google.colab import drive\n",
        "drive.mount('/content/drive')\n"
      ],
      "metadata": {
        "colab": {
          "base_uri": "https://localhost:8080/"
        },
        "id": "6jkTXFWGS7Us",
        "outputId": "9f3df47e-21df-41c5-8651-73e87c47d47f"
      },
      "execution_count": null,
      "outputs": [
        {
          "output_type": "stream",
          "name": "stdout",
          "text": [
            "Mounted at /content/drive\n"
          ]
        }
      ]
    },
    {
      "cell_type": "code",
      "execution_count": null,
      "metadata": {
        "id": "I0WyCtAo3tcU"
      },
      "outputs": [],
      "source": [
        "import tarfile\n",
        "\n",
        "with tarfile.open(\"/content/drive/MyDrive/social_iqa/socialIQa_v1.4.tgz\", \"r:gz\") as tar:\n",
        "    tar.extractall(\"social_iqa_data\")\n"
      ]
    },
    {
      "cell_type": "code",
      "source": [
        "import os\n",
        "\n",
        "os.listdir(\"social_iqa_data\")\n"
      ],
      "metadata": {
        "colab": {
          "base_uri": "https://localhost:8080/"
        },
        "id": "cMW5sm1T5D4F",
        "outputId": "ce4ad0dc-036a-4c30-9ef6-3e147f9e817f"
      },
      "execution_count": null,
      "outputs": [
        {
          "output_type": "execute_result",
          "data": {
            "text/plain": [
              "['socialIQa_v1.4_dev.jsonl',\n",
              " 'socialIQa_v1.4_tst.jsonl',\n",
              " 'socialIQa_v1.4_trn.jsonl',\n",
              " 'LICENCE-CC-BY-4.txt',\n",
              " 'README.md']"
            ]
          },
          "metadata": {},
          "execution_count": 3
        }
      ]
    },
    {
      "cell_type": "code",
      "source": [
        "import pandas as pd\n",
        "\n",
        "dev_df = pd.read_json(\"social_iqa_data/socialIQa_v1.4_dev.jsonl\", lines=True)\n",
        "dev_df.head()\n"
      ],
      "metadata": {
        "colab": {
          "base_uri": "https://localhost:8080/",
          "height": 293
        },
        "id": "cA9nxltn6HmJ",
        "outputId": "d387f470-8d0a-4a6e-da17-df0d87d80bf6"
      },
      "execution_count": null,
      "outputs": [
        {
          "output_type": "execute_result",
          "data": {
            "text/plain": [
              "                                             context  \\\n",
              "0  Tracy didn't go home that evening and resisted...   \n",
              "1  Sydney walked past a homeless woman asking for...   \n",
              "2  Sasha protected the patients' rights by making...   \n",
              "3  Jordan was in charge of taking the food on the...   \n",
              "4  Kendall opened their mouth to speak and what c...   \n",
              "\n",
              "                                  question  \\\n",
              "0  What does Tracy need to do before this?   \n",
              "1           How would you describe Sydney?   \n",
              "2      What will patients want to do next?   \n",
              "3        How would Jordan feel afterwards?   \n",
              "4          How would you describe Kendall?   \n",
              "\n",
              "                                             answerA  \\\n",
              "0                                    make a new plan   \n",
              "1                                        sympathetic   \n",
              "2                                     write new laws   \n",
              "3  horrible that he let his friends down on the c...   \n",
              "4                                a very quiet person   \n",
              "\n",
              "                                             answerB  \\\n",
              "0                              Go home and see Riley   \n",
              "1               like a person who was unable to help   \n",
              "2                               get petitions signed   \n",
              "3  happy that he doesn't need to do the cooking o...   \n",
              "4                              a very passive person   \n",
              "\n",
              "                                             answerC correct  \n",
              "0                               Find somewhere to go       C  \n",
              "1                                        incredulous       A  \n",
              "2                                        live longer       B  \n",
              "3  very proud and accomplished about the camping ...       A  \n",
              "4             a very aggressive and talkative person       C  "
            ],
            "text/html": [
              "\n",
              "  <div id=\"df-c4e31ace-6035-4e53-b47a-9ca0ef592daa\" class=\"colab-df-container\">\n",
              "    <div>\n",
              "<style scoped>\n",
              "    .dataframe tbody tr th:only-of-type {\n",
              "        vertical-align: middle;\n",
              "    }\n",
              "\n",
              "    .dataframe tbody tr th {\n",
              "        vertical-align: top;\n",
              "    }\n",
              "\n",
              "    .dataframe thead th {\n",
              "        text-align: right;\n",
              "    }\n",
              "</style>\n",
              "<table border=\"1\" class=\"dataframe\">\n",
              "  <thead>\n",
              "    <tr style=\"text-align: right;\">\n",
              "      <th></th>\n",
              "      <th>context</th>\n",
              "      <th>question</th>\n",
              "      <th>answerA</th>\n",
              "      <th>answerB</th>\n",
              "      <th>answerC</th>\n",
              "      <th>correct</th>\n",
              "    </tr>\n",
              "  </thead>\n",
              "  <tbody>\n",
              "    <tr>\n",
              "      <th>0</th>\n",
              "      <td>Tracy didn't go home that evening and resisted...</td>\n",
              "      <td>What does Tracy need to do before this?</td>\n",
              "      <td>make a new plan</td>\n",
              "      <td>Go home and see Riley</td>\n",
              "      <td>Find somewhere to go</td>\n",
              "      <td>C</td>\n",
              "    </tr>\n",
              "    <tr>\n",
              "      <th>1</th>\n",
              "      <td>Sydney walked past a homeless woman asking for...</td>\n",
              "      <td>How would you describe Sydney?</td>\n",
              "      <td>sympathetic</td>\n",
              "      <td>like a person who was unable to help</td>\n",
              "      <td>incredulous</td>\n",
              "      <td>A</td>\n",
              "    </tr>\n",
              "    <tr>\n",
              "      <th>2</th>\n",
              "      <td>Sasha protected the patients' rights by making...</td>\n",
              "      <td>What will patients want to do next?</td>\n",
              "      <td>write new laws</td>\n",
              "      <td>get petitions signed</td>\n",
              "      <td>live longer</td>\n",
              "      <td>B</td>\n",
              "    </tr>\n",
              "    <tr>\n",
              "      <th>3</th>\n",
              "      <td>Jordan was in charge of taking the food on the...</td>\n",
              "      <td>How would Jordan feel afterwards?</td>\n",
              "      <td>horrible that he let his friends down on the c...</td>\n",
              "      <td>happy that he doesn't need to do the cooking o...</td>\n",
              "      <td>very proud and accomplished about the camping ...</td>\n",
              "      <td>A</td>\n",
              "    </tr>\n",
              "    <tr>\n",
              "      <th>4</th>\n",
              "      <td>Kendall opened their mouth to speak and what c...</td>\n",
              "      <td>How would you describe Kendall?</td>\n",
              "      <td>a very quiet person</td>\n",
              "      <td>a very passive person</td>\n",
              "      <td>a very aggressive and talkative person</td>\n",
              "      <td>C</td>\n",
              "    </tr>\n",
              "  </tbody>\n",
              "</table>\n",
              "</div>\n",
              "    <div class=\"colab-df-buttons\">\n",
              "\n",
              "  <div class=\"colab-df-container\">\n",
              "    <button class=\"colab-df-convert\" onclick=\"convertToInteractive('df-c4e31ace-6035-4e53-b47a-9ca0ef592daa')\"\n",
              "            title=\"Convert this dataframe to an interactive table.\"\n",
              "            style=\"display:none;\">\n",
              "\n",
              "  <svg xmlns=\"http://www.w3.org/2000/svg\" height=\"24px\" viewBox=\"0 -960 960 960\">\n",
              "    <path d=\"M120-120v-720h720v720H120Zm60-500h600v-160H180v160Zm220 220h160v-160H400v160Zm0 220h160v-160H400v160ZM180-400h160v-160H180v160Zm440 0h160v-160H620v160ZM180-180h160v-160H180v160Zm440 0h160v-160H620v160Z\"/>\n",
              "  </svg>\n",
              "    </button>\n",
              "\n",
              "  <style>\n",
              "    .colab-df-container {\n",
              "      display:flex;\n",
              "      gap: 12px;\n",
              "    }\n",
              "\n",
              "    .colab-df-convert {\n",
              "      background-color: #E8F0FE;\n",
              "      border: none;\n",
              "      border-radius: 50%;\n",
              "      cursor: pointer;\n",
              "      display: none;\n",
              "      fill: #1967D2;\n",
              "      height: 32px;\n",
              "      padding: 0 0 0 0;\n",
              "      width: 32px;\n",
              "    }\n",
              "\n",
              "    .colab-df-convert:hover {\n",
              "      background-color: #E2EBFA;\n",
              "      box-shadow: 0px 1px 2px rgba(60, 64, 67, 0.3), 0px 1px 3px 1px rgba(60, 64, 67, 0.15);\n",
              "      fill: #174EA6;\n",
              "    }\n",
              "\n",
              "    .colab-df-buttons div {\n",
              "      margin-bottom: 4px;\n",
              "    }\n",
              "\n",
              "    [theme=dark] .colab-df-convert {\n",
              "      background-color: #3B4455;\n",
              "      fill: #D2E3FC;\n",
              "    }\n",
              "\n",
              "    [theme=dark] .colab-df-convert:hover {\n",
              "      background-color: #434B5C;\n",
              "      box-shadow: 0px 1px 3px 1px rgba(0, 0, 0, 0.15);\n",
              "      filter: drop-shadow(0px 1px 2px rgba(0, 0, 0, 0.3));\n",
              "      fill: #FFFFFF;\n",
              "    }\n",
              "  </style>\n",
              "\n",
              "    <script>\n",
              "      const buttonEl =\n",
              "        document.querySelector('#df-c4e31ace-6035-4e53-b47a-9ca0ef592daa button.colab-df-convert');\n",
              "      buttonEl.style.display =\n",
              "        google.colab.kernel.accessAllowed ? 'block' : 'none';\n",
              "\n",
              "      async function convertToInteractive(key) {\n",
              "        const element = document.querySelector('#df-c4e31ace-6035-4e53-b47a-9ca0ef592daa');\n",
              "        const dataTable =\n",
              "          await google.colab.kernel.invokeFunction('convertToInteractive',\n",
              "                                                    [key], {});\n",
              "        if (!dataTable) return;\n",
              "\n",
              "        const docLinkHtml = 'Like what you see? Visit the ' +\n",
              "          '<a target=\"_blank\" href=https://colab.research.google.com/notebooks/data_table.ipynb>data table notebook</a>'\n",
              "          + ' to learn more about interactive tables.';\n",
              "        element.innerHTML = '';\n",
              "        dataTable['output_type'] = 'display_data';\n",
              "        await google.colab.output.renderOutput(dataTable, element);\n",
              "        const docLink = document.createElement('div');\n",
              "        docLink.innerHTML = docLinkHtml;\n",
              "        element.appendChild(docLink);\n",
              "      }\n",
              "    </script>\n",
              "  </div>\n",
              "\n",
              "\n",
              "    <div id=\"df-7d6207dc-df30-4e0a-9848-4d80a91e528d\">\n",
              "      <button class=\"colab-df-quickchart\" onclick=\"quickchart('df-7d6207dc-df30-4e0a-9848-4d80a91e528d')\"\n",
              "                title=\"Suggest charts\"\n",
              "                style=\"display:none;\">\n",
              "\n",
              "<svg xmlns=\"http://www.w3.org/2000/svg\" height=\"24px\"viewBox=\"0 0 24 24\"\n",
              "     width=\"24px\">\n",
              "    <g>\n",
              "        <path d=\"M19 3H5c-1.1 0-2 .9-2 2v14c0 1.1.9 2 2 2h14c1.1 0 2-.9 2-2V5c0-1.1-.9-2-2-2zM9 17H7v-7h2v7zm4 0h-2V7h2v10zm4 0h-2v-4h2v4z\"/>\n",
              "    </g>\n",
              "</svg>\n",
              "      </button>\n",
              "\n",
              "<style>\n",
              "  .colab-df-quickchart {\n",
              "      --bg-color: #E8F0FE;\n",
              "      --fill-color: #1967D2;\n",
              "      --hover-bg-color: #E2EBFA;\n",
              "      --hover-fill-color: #174EA6;\n",
              "      --disabled-fill-color: #AAA;\n",
              "      --disabled-bg-color: #DDD;\n",
              "  }\n",
              "\n",
              "  [theme=dark] .colab-df-quickchart {\n",
              "      --bg-color: #3B4455;\n",
              "      --fill-color: #D2E3FC;\n",
              "      --hover-bg-color: #434B5C;\n",
              "      --hover-fill-color: #FFFFFF;\n",
              "      --disabled-bg-color: #3B4455;\n",
              "      --disabled-fill-color: #666;\n",
              "  }\n",
              "\n",
              "  .colab-df-quickchart {\n",
              "    background-color: var(--bg-color);\n",
              "    border: none;\n",
              "    border-radius: 50%;\n",
              "    cursor: pointer;\n",
              "    display: none;\n",
              "    fill: var(--fill-color);\n",
              "    height: 32px;\n",
              "    padding: 0;\n",
              "    width: 32px;\n",
              "  }\n",
              "\n",
              "  .colab-df-quickchart:hover {\n",
              "    background-color: var(--hover-bg-color);\n",
              "    box-shadow: 0 1px 2px rgba(60, 64, 67, 0.3), 0 1px 3px 1px rgba(60, 64, 67, 0.15);\n",
              "    fill: var(--button-hover-fill-color);\n",
              "  }\n",
              "\n",
              "  .colab-df-quickchart-complete:disabled,\n",
              "  .colab-df-quickchart-complete:disabled:hover {\n",
              "    background-color: var(--disabled-bg-color);\n",
              "    fill: var(--disabled-fill-color);\n",
              "    box-shadow: none;\n",
              "  }\n",
              "\n",
              "  .colab-df-spinner {\n",
              "    border: 2px solid var(--fill-color);\n",
              "    border-color: transparent;\n",
              "    border-bottom-color: var(--fill-color);\n",
              "    animation:\n",
              "      spin 1s steps(1) infinite;\n",
              "  }\n",
              "\n",
              "  @keyframes spin {\n",
              "    0% {\n",
              "      border-color: transparent;\n",
              "      border-bottom-color: var(--fill-color);\n",
              "      border-left-color: var(--fill-color);\n",
              "    }\n",
              "    20% {\n",
              "      border-color: transparent;\n",
              "      border-left-color: var(--fill-color);\n",
              "      border-top-color: var(--fill-color);\n",
              "    }\n",
              "    30% {\n",
              "      border-color: transparent;\n",
              "      border-left-color: var(--fill-color);\n",
              "      border-top-color: var(--fill-color);\n",
              "      border-right-color: var(--fill-color);\n",
              "    }\n",
              "    40% {\n",
              "      border-color: transparent;\n",
              "      border-right-color: var(--fill-color);\n",
              "      border-top-color: var(--fill-color);\n",
              "    }\n",
              "    60% {\n",
              "      border-color: transparent;\n",
              "      border-right-color: var(--fill-color);\n",
              "    }\n",
              "    80% {\n",
              "      border-color: transparent;\n",
              "      border-right-color: var(--fill-color);\n",
              "      border-bottom-color: var(--fill-color);\n",
              "    }\n",
              "    90% {\n",
              "      border-color: transparent;\n",
              "      border-bottom-color: var(--fill-color);\n",
              "    }\n",
              "  }\n",
              "</style>\n",
              "\n",
              "      <script>\n",
              "        async function quickchart(key) {\n",
              "          const quickchartButtonEl =\n",
              "            document.querySelector('#' + key + ' button');\n",
              "          quickchartButtonEl.disabled = true;  // To prevent multiple clicks.\n",
              "          quickchartButtonEl.classList.add('colab-df-spinner');\n",
              "          try {\n",
              "            const charts = await google.colab.kernel.invokeFunction(\n",
              "                'suggestCharts', [key], {});\n",
              "          } catch (error) {\n",
              "            console.error('Error during call to suggestCharts:', error);\n",
              "          }\n",
              "          quickchartButtonEl.classList.remove('colab-df-spinner');\n",
              "          quickchartButtonEl.classList.add('colab-df-quickchart-complete');\n",
              "        }\n",
              "        (() => {\n",
              "          let quickchartButtonEl =\n",
              "            document.querySelector('#df-7d6207dc-df30-4e0a-9848-4d80a91e528d button');\n",
              "          quickchartButtonEl.style.display =\n",
              "            google.colab.kernel.accessAllowed ? 'block' : 'none';\n",
              "        })();\n",
              "      </script>\n",
              "    </div>\n",
              "\n",
              "    </div>\n",
              "  </div>\n"
            ],
            "application/vnd.google.colaboratory.intrinsic+json": {
              "type": "dataframe",
              "variable_name": "dev_df",
              "summary": "{\n  \"name\": \"dev_df\",\n  \"rows\": 1954,\n  \"fields\": [\n    {\n      \"column\": \"context\",\n      \"properties\": {\n        \"dtype\": \"string\",\n        \"num_unique_values\": 1930,\n        \"samples\": [\n          \"Skylar and their friend played together and Skylar fell in the street.\",\n          \"Tracy took Jesse's music students to the park for a concert because Jesse was running late.\",\n          \"Even though they were quite embarrassed to miss a problem in front of the entire class, Quinn stood corrected after their mistake.\"\n        ],\n        \"semantic_type\": \"\",\n        \"description\": \"\"\n      }\n    },\n    {\n      \"column\": \"question\",\n      \"properties\": {\n        \"dtype\": \"category\",\n        \"num_unique_values\": 287,\n        \"samples\": [\n          \"Why did Austin do this?\",\n          \"What will happen to Bailey?\",\n          \"Why did Casey do this?\"\n        ],\n        \"semantic_type\": \"\",\n        \"description\": \"\"\n      }\n    },\n    {\n      \"column\": \"answerA\",\n      \"properties\": {\n        \"dtype\": \"string\",\n        \"num_unique_values\": 1745,\n        \"samples\": [\n          \"are reckless\",\n          \"Assign him the role of manager\",\n          \"in command\"\n        ],\n        \"semantic_type\": \"\",\n        \"description\": \"\"\n      }\n    },\n    {\n      \"column\": \"answerB\",\n      \"properties\": {\n        \"dtype\": \"string\",\n        \"num_unique_values\": 1756,\n        \"samples\": [\n          \"frugal\",\n          \"annoyed\",\n          \"spend all the money on books\"\n        ],\n        \"semantic_type\": \"\",\n        \"description\": \"\"\n      }\n    },\n    {\n      \"column\": \"answerC\",\n      \"properties\": {\n        \"dtype\": \"string\",\n        \"num_unique_values\": 1751,\n        \"samples\": [\n          \"playing a game\",\n          \"have a lot of fun\",\n          \"so happy\"\n        ],\n        \"semantic_type\": \"\",\n        \"description\": \"\"\n      }\n    },\n    {\n      \"column\": \"correct\",\n      \"properties\": {\n        \"dtype\": \"category\",\n        \"num_unique_values\": 3,\n        \"samples\": [\n          \"C\",\n          \"A\",\n          \"B\"\n        ],\n        \"semantic_type\": \"\",\n        \"description\": \"\"\n      }\n    }\n  ]\n}"
            }
          },
          "metadata": {},
          "execution_count": 4
        }
      ]
    },
    {
      "cell_type": "code",
      "source": [
        "def build_cot_prompt(df, n_shot=3, test_idx=5):\n",
        "    # Manually prepared reasoning dictionaries\n",
        "    sample_reasonings = {\n",
        "        0: \"Tracy didn’t go home and resisted doing so, which suggests she’s avoiding returning. Before anything else, she needs to secure a temporary place to stay. So finding somewhere to go is her immediate need.\",\n",
        "        1: \"Sydney walked past a homeless woman asking for help, which implies a lack of emotional response or action. Someone sympathetic would likely have stopped or acknowledged the woman. Sydney’s behavior suggests she felt nothing or ignored the situation.\",\n",
        "        2: \"Sasha protected patients' rights. People who care about rights often organize support rather than make laws directly. Getting petitions signed is a common and accessible action that aligns with this goal.\",\n",
        "        3: \"Jordan was responsible for food and later felt something. If he failed, he might feel guilt or shame. The phrasing ‘let his friends down’ suggests disappointment. Therefore, he likely feels horrible afterward.\",\n",
        "        4: \"Kendall opened their mouth to speak and changed their mind, suggesting hesitation and lack of assertiveness. This behavior aligns with being passive and reserved rather than aggressive or expressive.\"\n",
        "    }\n",
        "\n",
        "    prompt = \"\"\n",
        "\n",
        "    # Add n_shot example\n",
        "    for i in range(n_shot):\n",
        "        row = df.iloc[i]\n",
        "        reasoning = sample_reasonings.get(i, \"Let's think step by step...\")  # fallback\n",
        "        prompt += f\"\"\"Q: {row['question']}\n",
        "Context: {row['context']}\n",
        "A. {row['answerA']}\n",
        "B. {row['answerB']}\n",
        "C. {row['answerC']}\n",
        "Let's think step by step.\n",
        "{reasoning}\n",
        "So the answer is: {row['correct']}\n",
        "\n",
        "\"\"\"\n",
        "\n",
        "    # Adding test samples (without reasoning and answers)\n",
        "    test_row = df.iloc[test_idx]\n",
        "    prompt += f\"\"\"Q: {test_row['question']}\n",
        "Context: {test_row['context']}\n",
        "A. {test_row['answerA']}\n",
        "B. {test_row['answerB']}\n",
        "C. {test_row['answerC']}\n",
        "Let's think step by step.\n",
        "\"\"\"\n",
        "\n",
        "    return prompt\n"
      ],
      "metadata": {
        "id": "AfyvhRPXemz5"
      },
      "execution_count": null,
      "outputs": []
    },
    {
      "cell_type": "code",
      "source": [
        "prompt = build_cot_prompt(dev_df, n_shot=3, test_idx=5)\n",
        "print(prompt)\n"
      ],
      "metadata": {
        "colab": {
          "base_uri": "https://localhost:8080/"
        },
        "id": "k8Csbn7Uez-k",
        "outputId": "924f1197-22ca-464c-8445-033a0156e3a1"
      },
      "execution_count": null,
      "outputs": [
        {
          "output_type": "stream",
          "name": "stdout",
          "text": [
            "Q: What does Tracy need to do before this?\n",
            "Context: Tracy didn't go home that evening and resisted Riley's attacks.\n",
            "A. make a new plan\n",
            "B. Go home and see Riley\n",
            "C. Find somewhere to go\n",
            "Let's think step by step.\n",
            "Tracy didn’t go home and resisted doing so, which suggests she’s avoiding returning. Before anything else, she needs to secure a temporary place to stay. So finding somewhere to go is her immediate need.\n",
            "So the answer is: C\n",
            "\n",
            "Q: How would you describe Sydney?\n",
            "Context: Sydney walked past a homeless woman asking for change but did not have any money they could give to her. Sydney felt bad afterwards.\n",
            "A. sympathetic\n",
            "B. like a person who was unable to help\n",
            "C. incredulous\n",
            "Let's think step by step.\n",
            "Sydney walked past a homeless woman asking for help, which implies a lack of emotional response or action. Someone sympathetic would likely have stopped or acknowledged the woman. Sydney’s behavior suggests she felt nothing or ignored the situation.\n",
            "So the answer is: A\n",
            "\n",
            "Q: What will patients want to do next?\n",
            "Context: Sasha protected the patients' rights by making new laws regarding cancer drug trials.\n",
            "A. write new laws\n",
            "B. get petitions signed\n",
            "C. live longer\n",
            "Let's think step by step.\n",
            "Sasha protected patients' rights. People who care about rights often organize support rather than make laws directly. Getting petitions signed is a common and accessible action that aligns with this goal.\n",
            "So the answer is: B\n",
            "\n",
            "Q: How would you describe Aubrey?\n",
            "Context: Aubrey never told Riley the answer and Riley was angry.\n",
            "A. rude\n",
            "B. smug at knowing the answer\n",
            "C. annoyed at Riley's response\n",
            "Let's think step by step.\n",
            "\n"
          ]
        }
      ]
    },
    {
      "cell_type": "code",
      "source": [
        "import openai\n",
        "\n",
        "openai.api_key = \"...\"  #openai api key\n",
        "\n",
        "client = openai.OpenAI(api_key=\"...\")\n",
        "\n",
        "response = client.chat.completions.create(\n",
        "    model=\"gpt-4.1-mini\",\n",
        "    messages=[\n",
        "        {\"role\": \"user\", \"content\": prompt}\n",
        "    ],\n",
        "    temperature=0  # consistency\n",
        ")\n",
        "\n",
        "output = response.choices[0].message.content\n",
        "\n",
        "print(output)\n"
      ],
      "metadata": {
        "colab": {
          "base_uri": "https://localhost:8080/"
        },
        "id": "xL1tls3yS6RC",
        "outputId": "0041b582-d916-46bc-b38f-789aead7c45e"
      },
      "execution_count": null,
      "outputs": [
        {
          "output_type": "stream",
          "name": "stdout",
          "text": [
            "Let's think step by step.\n",
            "\n",
            "Cameron left the Halloween party early and drove home quickly. This suggests urgency and concern. Among the options:\n",
            "\n",
            "- Going to bed (C) is unlikely to require rushing.\n",
            "- Taking a child to the doctor (B) is urgent and would explain the quick departure.\n",
            "- Getting home to a sick dog (A) could also be urgent, but generally, taking a child to the doctor is a more common urgent reason.\n",
            "\n",
            "Therefore, the most plausible reason is B.\n",
            "\n",
            "So the answer is: B\n"
          ]
        }
      ]
    },
    {
      "cell_type": "code",
      "source": [
        "import re\n",
        "from tqdm import tqdm\n",
        "\n",
        "def extract_choice(output_text):\n",
        "    match = re.search(r\"So the answer is:\\s*([ABC])\", output_text)\n",
        "    return match.group(1) if match else None\n",
        "\n",
        "def evaluate_accuracy_batch(df, test_indices, n_shot_list):\n",
        "    results = {}\n",
        "\n",
        "    for n_shot in n_shot_list:\n",
        "        correct_count = 0\n",
        "        total = len(test_indices)\n",
        "        predictions = []\n",
        "\n",
        "        print(f\"\\nEvaluating {n_shot}-shot prompting:\")\n",
        "        for idx in tqdm(test_indices):\n",
        "            prompt = build_cot_prompt(df, n_shot=n_shot, test_idx=idx)\n",
        "\n",
        "            try:\n",
        "                response = client.chat.completions.create(\n",
        "                    model=\"gpt-4.1-mini\",\n",
        "                    messages=[{\"role\": \"user\", \"content\": prompt}],\n",
        "                    temperature=0\n",
        "                )\n",
        "                output = response.choices[0].message.content\n",
        "                pred = extract_choice(output)\n",
        "                gold = df.loc[idx, 'correct']\n",
        "                predictions.append((idx, pred, gold))\n",
        "\n",
        "                if pred == gold:\n",
        "                    correct_count += 1\n",
        "\n",
        "            except Exception as e:\n",
        "                print(f\"Error at idx {idx}: {e}\")\n",
        "                predictions.append((idx, None, df.loc[idx, 'correct']))\n",
        "\n",
        "        accuracy = correct_count / total\n",
        "        results[n_shot] = {\n",
        "            \"accuracy\": accuracy,\n",
        "            \"details\": predictions\n",
        "        }\n",
        "\n",
        "    return results\n"
      ],
      "metadata": {
        "id": "7fzXM_bxgXok"
      },
      "execution_count": null,
      "outputs": []
    },
    {
      "cell_type": "code",
      "source": [
        "test_indices = list(range(5, 105))  # A total of 100 samples were evaluated\n",
        "n_shot_list = [1, 3, 5]\n",
        "\n",
        "results = evaluate_accuracy_batch(dev_df, test_indices, n_shot_list)\n"
      ],
      "metadata": {
        "colab": {
          "base_uri": "https://localhost:8080/"
        },
        "id": "UViShTl9gaSX",
        "outputId": "50e1ddc1-2896-4d2c-977c-3e2a75673053"
      },
      "execution_count": null,
      "outputs": [
        {
          "output_type": "stream",
          "name": "stdout",
          "text": [
            "\n",
            "Evaluating 1-shot prompting:\n"
          ]
        },
        {
          "output_type": "stream",
          "name": "stderr",
          "text": [
            "100%|██████████| 100/100 [04:41<00:00,  2.81s/it]\n"
          ]
        },
        {
          "output_type": "stream",
          "name": "stdout",
          "text": [
            "\n",
            "Evaluating 3-shot prompting:\n"
          ]
        },
        {
          "output_type": "stream",
          "name": "stderr",
          "text": [
            "100%|██████████| 100/100 [03:57<00:00,  2.38s/it]\n"
          ]
        },
        {
          "output_type": "stream",
          "name": "stdout",
          "text": [
            "\n",
            "Evaluating 5-shot prompting:\n"
          ]
        },
        {
          "output_type": "stream",
          "name": "stderr",
          "text": [
            "100%|██████████| 100/100 [04:41<00:00,  2.81s/it]\n"
          ]
        }
      ]
    },
    {
      "cell_type": "code",
      "source": [
        "\n",
        "rows = []\n",
        "\n",
        "for n_shot, result in results.items():\n",
        "    for (idx, pred, gold) in result['details']:\n",
        "        correct = int(pred == gold) if pred else 0\n",
        "\n",
        "        prompt = build_cot_prompt(dev_df, n_shot=n_shot, test_idx=idx)\n",
        "        response = client.chat.completions.create(\n",
        "            model=\"gpt-4.1-mini\",#three models\n",
        "            messages=[{\"role\": \"user\", \"content\": prompt}],\n",
        "            temperature=0\n",
        "        )\n",
        "        full_output = response.choices[0].message.content\n",
        "        reasoning_length = len(full_output.split())\n",
        "\n",
        "        rows.append({\n",
        "            \"index\": idx,\n",
        "            \"n_shot\": n_shot,\n",
        "            \"pred\": pred,\n",
        "            \"gold\": gold,\n",
        "            \"correct\": correct,\n",
        "            \"reasoning_length\": reasoning_length,\n",
        "            \"full_response\": full_output\n",
        "        })\n",
        "\n",
        "df_full = pd.DataFrame(rows)\n",
        "df_full.to_csv(\"cot_eval_full_4.1mini.csv\", index=False)\n"
      ],
      "metadata": {
        "id": "B5W_L2LGicn4"
      },
      "execution_count": null,
      "outputs": []
    }
  ]
}